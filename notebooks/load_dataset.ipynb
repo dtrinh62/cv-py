{
 "cells": [
  {
   "cell_type": "code",
   "execution_count": 1,
   "metadata": {},
   "outputs": [],
   "source": [
    "from pprint import pprint"
   ]
  },
  {
   "cell_type": "code",
   "execution_count": 10,
   "metadata": {},
   "outputs": [
    {
     "name": "stdout",
     "output_type": "stream",
     "text": [
      "('What do we know about COVID-19 risk factors?',\n",
      " 'What do we know about COVID-19 risk factors? What have we learned from '\n",
      " 'epidemiological studies?',\n",
      " ['Data on potential risks factors',\n",
      "  ['Smoking, pre-existing pulmonary disease',\n",
      "   'Co-infections (determine whether co-existing respiratory/viral infections '\n",
      "   'make the virus more transmissible or virulent) and other co-morbidities',\n",
      "   'Neonates and pregnant women',\n",
      "   'Socio-economic and behavioral factors to understand the economic impact of '\n",
      "   'the virus and whether there were differences.'],\n",
      "  'Transmission dynamics of the virus, including the basic reproductive '\n",
      "  'number, incubation period, serial interval, modes of transmission and '\n",
      "  'environmental factors',\n",
      "  'Severity of disease, including risk of fatality among symptomatic '\n",
      "  'hospitalized patients, and high-risk patient groups',\n",
      "  'Susceptibility of populations',\n",
      "  'Public health mitigation measures that could be effective for control'])\n"
     ]
    }
   ],
   "source": [
    "from cv_py.resources.builtins import cord19tasks, CordTask\n",
    "\n",
    "tasks = cord19tasks()\n",
    "task = -2\n",
    "pprint((tasks[task].question,\n",
    "        tasks[task].details,\n",
    "        tasks[task].subtasks))"
   ]
  },
  {
   "cell_type": "code",
   "execution_count": 2,
   "metadata": {},
   "outputs": [],
   "source": [
    "from cv_py.resources.datapackage import load"
   ]
  },
  {
   "cell_type": "code",
   "execution_count": 3,
   "metadata": {},
   "outputs": [],
   "source": [
    "d = load(\"cord19_cdcs\")\n"
   ]
  },
  {
   "cell_type": "code",
   "execution_count": 4,
   "metadata": {
    "scrolled": true
   },
   "outputs": [
    {
     "data": {
      "text/plain": [
       "['cord_uid',\n",
       " 'title',\n",
       " 'doi',\n",
       " 'doi_url',\n",
       " 'journal',\n",
       " 'abstract',\n",
       " 'authors',\n",
       " 'sha',\n",
       " 'license',\n",
       " 'license_url',\n",
       " 'publish_time',\n",
       " 'source_x',\n",
       " 'source_x_url',\n",
       " 'pubmed_id',\n",
       " 'pubmed_id_url',\n",
       " 'pmcid',\n",
       " 'pmcid_url',\n",
       " 'mag_id',\n",
       " 'mag_id_url',\n",
       " 'who_covidence_id',\n",
       " 'who_covidence_id_url',\n",
       " 'arxiv_id',\n",
       " 'arxiv_id_url',\n",
       " 'url',\n",
       " 'content_json',\n",
       " 'content_json_extracted_text',\n",
       " 'content_json_extracted_text_keywords',\n",
       " 'unicode_content_json',\n",
       " 'unicode_content_json_extracted_text',\n",
       " 'unicode_content_json_extracted_text_keywords',\n",
       " 'pmc_text',\n",
       " 'pmc_text_keywords',\n",
       " 'pdf_json_files',\n",
       " 'pmc_json_files',\n",
       " 'g_id',\n",
       " 'has_full_text',\n",
       " 's2_id',\n",
       " 'pid']"
      ]
     },
     "execution_count": 4,
     "metadata": {},
     "output_type": "execute_result"
    }
   ],
   "source": [
    "d.columns.tolist()"
   ]
  },
  {
   "cell_type": "code",
   "execution_count": 5,
   "metadata": {},
   "outputs": [
    {
     "data": {
      "text/html": [
       "<div>\n",
       "<style scoped>\n",
       "    .dataframe tbody tr th:only-of-type {\n",
       "        vertical-align: middle;\n",
       "    }\n",
       "\n",
       "    .dataframe tbody tr th {\n",
       "        vertical-align: top;\n",
       "    }\n",
       "\n",
       "    .dataframe thead th {\n",
       "        text-align: right;\n",
       "    }\n",
       "</style>\n",
       "<table border=\"1\" class=\"dataframe\">\n",
       "  <thead>\n",
       "    <tr style=\"text-align: right;\">\n",
       "      <th></th>\n",
       "      <th>cord_uid</th>\n",
       "      <th>title</th>\n",
       "      <th>authors</th>\n",
       "      <th>publish_time</th>\n",
       "    </tr>\n",
       "    <tr>\n",
       "      <th>index</th>\n",
       "      <th></th>\n",
       "      <th></th>\n",
       "      <th></th>\n",
       "      <th></th>\n",
       "    </tr>\n",
       "  </thead>\n",
       "  <tbody>\n",
       "    <tr>\n",
       "      <th>0</th>\n",
       "      <td>3etvi1p5</td>\n",
       "      <td>What to do when it is technically impossible t...</td>\n",
       "      <td>[Rebibo, Lionel, Dhahri, Abdennaceur, Verhaegh...</td>\n",
       "      <td>2014</td>\n",
       "    </tr>\n",
       "    <tr>\n",
       "      <th>1</th>\n",
       "      <td>m5kwp4hs</td>\n",
       "      <td>Acute and persistent infection of human neural...</td>\n",
       "      <td>[Arbour, N, Ct, G, Lachance, C, Tardieu, M, Ca...</td>\n",
       "      <td>1999</td>\n",
       "    </tr>\n",
       "    <tr>\n",
       "      <th>2</th>\n",
       "      <td>p2t2wd4t</td>\n",
       "      <td>Dispersion of a new coronavirus SARS-CoV-2 by ...</td>\n",
       "      <td>[Cruz Pacheco, Gustavo, Bustamante Castaneda, ...</td>\n",
       "      <td>2020-03-30</td>\n",
       "    </tr>\n",
       "    <tr>\n",
       "      <th>3</th>\n",
       "      <td>6nshel2s</td>\n",
       "      <td>Risk of kidney toxicity with carfilzomib in mu...</td>\n",
       "      <td>[Ball, Somedeb, Behera, Tapas Ranjan, Anwer, F...</td>\n",
       "      <td>2020-05-07</td>\n",
       "    </tr>\n",
       "    <tr>\n",
       "      <th>4</th>\n",
       "      <td>zd8dhqlf</td>\n",
       "      <td>ISAR News</td>\n",
       "      <td>[]</td>\n",
       "      <td>2015-09-30</td>\n",
       "    </tr>\n",
       "  </tbody>\n",
       "</table>\n",
       "</div>"
      ],
      "text/plain": [
       "       cord_uid                                              title  \\\n",
       "index                                                                \n",
       "0      3etvi1p5  What to do when it is technically impossible t...   \n",
       "1      m5kwp4hs  Acute and persistent infection of human neural...   \n",
       "2      p2t2wd4t  Dispersion of a new coronavirus SARS-CoV-2 by ...   \n",
       "3      6nshel2s  Risk of kidney toxicity with carfilzomib in mu...   \n",
       "4      zd8dhqlf                                          ISAR News   \n",
       "\n",
       "                                                 authors publish_time  \n",
       "index                                                                  \n",
       "0      [Rebibo, Lionel, Dhahri, Abdennaceur, Verhaegh...         2014  \n",
       "1      [Arbour, N, Ct, G, Lachance, C, Tardieu, M, Ca...         1999  \n",
       "2      [Cruz Pacheco, Gustavo, Bustamante Castaneda, ...   2020-03-30  \n",
       "3      [Ball, Somedeb, Behera, Tapas Ranjan, Anwer, F...   2020-05-07  \n",
       "4                                                     []   2015-09-30  "
      ]
     },
     "execution_count": 5,
     "metadata": {},
     "output_type": "execute_result"
    }
   ],
   "source": [
    "d.head()[['cord_uid', 'title', 'authors', 'publish_time']]"
   ]
  },
  {
   "cell_type": "code",
   "execution_count": 6,
   "metadata": {},
   "outputs": [
    {
     "data": {
      "text/plain": [
       "PLoS One                                         1758\n",
       "Journal of virology                              1609\n",
       "Virology                                         1436\n",
       "bioRxiv                                          1372\n",
       "Surgical endoscopy                                912\n",
       "Lancet                                            873\n",
       "BMJ                                               867\n",
       "Emerg Infect Dis                                  860\n",
       "Sci Rep                                           836\n",
       "Nature                                            738\n",
       "Vaccine                                           706\n",
       "Viruses                                           665\n",
       "Arch Virol                                        657\n",
       "The Journal of general virology                   593\n",
       "Emerging infectious diseases                      480\n",
       "Advances in experimental medicine and biology     467\n",
       "PLoS Pathog                                       413\n",
       "Virol J                                           407\n",
       "JAMA                                              407\n",
       "BMC Infect Dis                                    395\n",
       "Name: journal, dtype: int64"
      ]
     },
     "execution_count": 6,
     "metadata": {},
     "output_type": "execute_result"
    }
   ],
   "source": [
    "d.journal.value_counts().head(20)"
   ]
  },
  {
   "cell_type": "code",
   "execution_count": 7,
   "metadata": {},
   "outputs": [
    {
     "data": {
      "text/plain": [
       "hzzm3fcv    125\n",
       "gu250bub     68\n",
       "gb2lhyew     24\n",
       "8nbxzspj     10\n",
       "qb7cm04v     10\n",
       "k8u2tidd      6\n",
       "igqgdgl6      6\n",
       "69rljdy4      5\n",
       "3kmqy07w      5\n",
       "jexxd6jl      5\n",
       "n9ptifg8      5\n",
       "u3hz6sz1      5\n",
       "9y7bgd80      5\n",
       "61nvkiz7      5\n",
       "2g4m0dy7      5\n",
       "4y5mnok8      5\n",
       "mq927art      5\n",
       "9gy3lnk0      5\n",
       "02lsd9p6      5\n",
       "d52yx420      4\n",
       "Name: cord_uid, dtype: int64"
      ]
     },
     "execution_count": 7,
     "metadata": {},
     "output_type": "execute_result"
    }
   ],
   "source": [
    "d.cord_uid.value_counts().head(20)"
   ]
  },
  {
   "cell_type": "code",
   "execution_count": null,
   "metadata": {},
   "outputs": [],
   "source": []
  },
  {
   "cell_type": "code",
   "execution_count": null,
   "metadata": {},
   "outputs": [],
   "source": []
  }
 ],
 "metadata": {
  "kernelspec": {
   "display_name": "Python [conda env:cord19dev]",
   "language": "python",
   "name": "conda-env-cord19dev-py"
  },
  "language_info": {
   "codemirror_mode": {
    "name": "ipython",
    "version": 3
   },
   "file_extension": ".py",
   "mimetype": "text/x-python",
   "name": "python",
   "nbconvert_exporter": "python",
   "pygments_lexer": "ipython3",
   "version": "3.8.2"
  }
 },
 "nbformat": 4,
 "nbformat_minor": 4
}
