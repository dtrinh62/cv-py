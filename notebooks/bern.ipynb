{
 "cells": [
  {
   "cell_type": "markdown",
   "metadata": {},
   "source": [
    "# BioBERT and State-of-the-art NER\n",
    "\n",
    "Neural NER is cool. \n",
    "\n",
    "Domain specific neural-NER is even _cooler_. It's also really hard to do _right_. \n",
    "\n",
    "Luckily the folks at DMIS in S. Korea have pain-stakingly created a system, based on pre-trained Bio-BERT models, that extracts and normalizes several key named entity types from medical text. \n",
    "\n",
    "It arrives via their web-api (which can be self-hosted!) in the well-tested _PubAnnotate_ format. This means we can also use visualization tools --- namely, `textae`--- to quickly see which entities were extracted and where."
   ]
  },
  {
   "cell_type": "code",
   "execution_count": 60,
   "metadata": {},
   "outputs": [],
   "source": [
    "from cv.data import annotate as annot\n",
    "import spacy"
   ]
  },
  {
   "cell_type": "code",
   "execution_count": 81,
   "metadata": {},
   "outputs": [],
   "source": [
    "import requests\n",
    "from IPython.display import display, HTML\n",
    "\n",
    "def query_raw(text, url=\"https://bern.korea.ac.kr/plain\"):\n",
    "    return requests.post(url, data={'sample_text': text}).text"
   ]
  },
  {
   "cell_type": "code",
   "execution_count": 82,
   "metadata": {
    "scrolled": true
   },
   "outputs": [],
   "source": [
    "snippet = \"\"\"\n",
    "Autophagy maintains tumour growth through circulating arginine. \n",
    "Autophagy captures intracellular components and delivers them to lysosomes, \n",
    "where they are degraded and recycled to sustain metabolism and to enable \n",
    "survival during starvation1-5. \n",
    "Acute, whole-body deletion of the essential autophagy gene Atg7 in adult mice \n",
    "causes a systemic metabolic defect that manifests as starvation intolerance and \n",
    "gradual loss of white adipose tissue, liver glycogen and muscle mass1. \n",
    "Cancer cells also benefit from autophagy. \n",
    "Deletion of essential autophagy genes impairs the metabolism, proliferation, \n",
    "survival and malignancy of spontaneous tumours in models of autochthonous cancer6,7. \n",
    "Acute, systemic deletion of Atg7 or acute, systemic expression of a \n",
    "dominant-negative ATG4b in mice induces greater regression of KRAS-driven cancers \n",
    "than does tumour-specific autophagy deletion, which suggests that host autophagy \n",
    "promotes tumour growth1,8. \n",
    "Here we show that host-specific deletion of Atg7 impairs the growth of multiple \n",
    "allografted tumours, although not all tumour lines were sensitive to host autophagy status. \n",
    "Loss of autophagy in the host was associated with a reduction in circulating arginine,\n",
    "and the sensitive tumour cell lines were arginine auxotrophs owing to the lack of \n",
    "expression of the enzyme argininosuccinate synthase 1. \n",
    "Serum proteomic analysis identified the arginine-degrading enzyme arginase I (ARG1) \n",
    "in the circulation of Atg7-deficient hosts, and in vivo arginine metabolic tracing \n",
    "demonstrated that serum arginine was degraded to ornithine. ARG1 is predominantly \n",
    "expressed in the liver and can be released from hepatocytes into the circulation. \n",
    "Liver-specific deletion of Atg7 produced circulating ARG1, and reduced both serum \n",
    "arginine and tumour growth. Deletion of Atg5 in the host similarly regulated [corrected] \n",
    "arginine and suppressed tumorigenesis, which demonstrates that this \n",
    "phenotype is specific to autophagy function rather than to deletion of Atg7. \n",
    "Dietary supplementation of Atg7-deficient hosts with arginine partially restored levels \n",
    "of circulating arginine and tumour growth. Thus, defective autophagy in the host leads to \n",
    "the release of ARG1 from the liver and the degradation of circulating arginine, which is essential\n",
    "for tumour growth; this identifies a metabolic vulnerability of cancer. \n",
    "(PMID:30429607) \n",
    "\"\"\".replace(\"\\n\", \"\")\n",
    "# snippet = \"genes are nice\""
   ]
  },
  {
   "cell_type": "code",
   "execution_count": 83,
   "metadata": {
    "scrolled": true
   },
   "outputs": [
    {
     "data": {
      "text/plain": [
       "'{\"project\":\"BERN\",\"sourcedb\":\"\",\"sourceid\":\"3fb64488568a4a1b204d8638e52584396c77c170bcebbf1c5d33998b\",\"text\":\"Autophagy maintains tumour growth through circulating arginine. Autophagy captures intracellular components and delivers them to lysosomes, where they are degraded and recycled to sustain metabolism and to enable survival during starvation1-5. Acute, whole-body deletion of the essential autophagy gene Atg7 in adult mice causes a systemic metabolic defect that manifests as starvation intolerance and gradual loss of white adipose tissue, liver glycogen and muscle mass1. Cancer cells also benefit from autophagy. Deletion of essential autophagy genes impairs the metabolism, proliferation, survival and malignancy of spontaneous tumours in models of autochthonous cancer6,7. Acute, systemic deletion of Atg7 or acute, systemic expression of a dominant-negative ATG4b in mice induces greater regression of KRAS-driven cancers than does tumour-specific autophagy deletion, which suggests that host autophagy promotes tumour growth1,8. Here we show that host-specific deletion of Atg7 impairs the growth of multiple allografted tumours, although not all tumour lines were sensitive to host autophagy status. Loss of autophagy in the host was associated with a reduction in circulating arginine,and the sensitive tumour cell lines were arginine auxotrophs owing to the lack of expression of the enzyme argininosuccinate synthase 1. Serum proteomic analysis identified the arginine-degrading enzyme arginase I (ARG1) in the circulation of Atg7-deficient hosts, and in vivo arginine metabolic tracing demonstrated that serum arginine was degraded to ornithine. ARG1 is predominantly expressed in the liver and can be released from hepatocytes into the circulation. Liver-specific deletion of Atg7 produced circulating ARG1, and reduced both serum arginine and tumour growth. Deletion of Atg5 in the host similarly regulated [corrected] arginine and suppressed tumorigenesis, which demonstrates that this phenotype is specific to autophagy function rather than to deletion of Atg7. Dietary supplementation of Atg7-deficient hosts with arginine partially restored levels of circulating arginine and tumour growth. Thus, defective autophagy in the host leads to the release of ARG1 from the liver and the degradation of circulating arginine, which is essentialfor tumour growth; this identifies a metabolic vulnerability of cancer. (PMID:30429607)\",\"denotations\":[{\"id\":[\"BERN:256225101\"],\"span\":{\"begin\":20,\"end\":26},\"obj\":\"disease\"},{\"id\":[\"CHEBI:32696\",\"BERN:94137403\"],\"span\":{\"begin\":54,\"end\":62},\"obj\":\"drug\"},{\"id\":[\"CUI-less\"],\"span\":{\"begin\":288,\"end\":307},\"obj\":\"gene\"},{\"id\":[\"NCBI:txid10095\"],\"span\":{\"begin\":317,\"end\":321},\"obj\":\"species\"},{\"id\":[\"MESH:C562803\",\"OMIM:250620\",\"BERN:263376801\"],\"span\":{\"begin\":340,\"end\":356},\"obj\":\"disease\"},{\"id\":[\"MESH:D013217\",\"BERN:265242001\"],\"span\":{\"begin\":375,\"end\":397},\"obj\":\"disease\"},{\"id\":[\"MESH:D002277\",\"BERN:255268301\"],\"span\":{\"begin\":473,\"end\":479},\"obj\":\"disease\"},{\"id\":[\"CUI-less\"],\"span\":{\"begin\":537,\"end\":552},\"obj\":\"gene\"},{\"id\":[\"BERN:256225101\"],\"span\":{\"begin\":631,\"end\":638},\"obj\":\"disease\"},{\"id\":[\"MESH:D008288\",\"OMIM:609148\",\"BERN:106969401\"],\"span\":{\"begin\":652,\"end\":673},\"obj\":\"disease\"},{\"id\":[\"MIM:608760\",\"HGNC:16935\",\"Ensembl:ENSG00000197548\",\"BERN:321219402\"],\"span\":{\"begin\":705,\"end\":709},\"obj\":\"gene\"},{\"id\":[\"CUI-less\"],\"span\":{\"begin\":745,\"end\":768},\"obj\":\"gene\"},{\"id\":[\"NCBI:txid10095\"],\"span\":{\"begin\":772,\"end\":776},\"obj\":\"species\"},{\"id\":[\"MESH:D010307\",\"BERN:107530601\"],\"span\":{\"begin\":807,\"end\":826},\"obj\":\"disease\"},{\"id\":[\"MIM:190070\",\"HGNC:6407\",\"Ensembl:ENSG00000133703\",\"BERN:323797702\"],\"span\":{\"begin\":807,\"end\":811},\"obj\":\"gene\"},{\"id\":[\"BERN:256225101\"],\"span\":{\"begin\":837,\"end\":843},\"obj\":\"disease\"},{\"id\":[\"BERN:256225101\"],\"span\":{\"begin\":917,\"end\":923},\"obj\":\"disease\"},{\"id\":[\"MIM:608760\",\"HGNC:16935\",\"Ensembl:ENSG00000197548\",\"BERN:321219402\"],\"span\":{\"begin\":979,\"end\":983},\"obj\":\"gene\"},{\"id\":[\"BERN:257222701\"],\"span\":{\"begin\":1015,\"end\":1034},\"obj\":\"disease\"},{\"id\":[\"BERN:256225101\"],\"span\":{\"begin\":1053,\"end\":1059},\"obj\":\"disease\"},{\"id\":[\"CHEBI:32696\",\"BERN:94137403\"],\"span\":{\"begin\":1184,\"end\":1192},\"obj\":\"drug\"},{\"id\":[\"BERN:256225101\"],\"span\":{\"begin\":1211,\"end\":1217},\"obj\":\"disease\"},{\"id\":[\"CHEBI:32696\",\"BERN:94137403\"],\"span\":{\"begin\":1234,\"end\":1242},\"obj\":\"drug\"},{\"id\":[\"BERN:4665803\"],\"span\":{\"begin\":1300,\"end\":1317},\"obj\":\"drug\"},{\"id\":[\"MIM:603470\",\"HGNC:758\",\"Ensembl:ENSG00000130707\",\"BERN:324125102\"],\"span\":{\"begin\":1300,\"end\":1328},\"obj\":\"gene\"},{\"id\":[\"CHEBI:32696\",\"BERN:94137403\"],\"span\":{\"begin\":1370,\"end\":1378},\"obj\":\"drug\"},{\"id\":[\"CUI-less\"],\"span\":{\"begin\":1396,\"end\":1406},\"obj\":\"gene\"},{\"id\":[\"MIM:608313\",\"HGNC:663\",\"Ensembl:ENSG00000118520\",\"BERN:323796102\"],\"span\":{\"begin\":1408,\"end\":1412},\"obj\":\"gene\"},{\"id\":[\"CUI-less\"],\"span\":{\"begin\":1436,\"end\":1450},\"obj\":\"disease\"},{\"id\":[\"MIM:608760\",\"HGNC:16935\",\"Ensembl:ENSG00000197548\",\"BERN:321219402\"],\"span\":{\"begin\":1436,\"end\":1440},\"obj\":\"gene\"},{\"id\":[\"CHEBI:32696\",\"BERN:94137403\"],\"span\":{\"begin\":1470,\"end\":1478},\"obj\":\"drug\"},{\"id\":[\"CHEBI:32696\",\"BERN:94137403\"],\"span\":{\"begin\":1521,\"end\":1529},\"obj\":\"drug\"},{\"id\":[\"CHEBI:44667\",\"BERN:270478003\"],\"span\":{\"begin\":1546,\"end\":1555},\"obj\":\"drug\"},{\"id\":[\"MIM:608313\",\"HGNC:663\",\"Ensembl:ENSG00000118520\",\"BERN:323796102\"],\"span\":{\"begin\":1557,\"end\":1561},\"obj\":\"gene\"},{\"id\":[\"MIM:608760\",\"HGNC:16935\",\"Ensembl:ENSG00000197548\",\"BERN:321219402\"],\"span\":{\"begin\":1688,\"end\":1692},\"obj\":\"gene\"},{\"id\":[\"MIM:608313\",\"HGNC:663\",\"Ensembl:ENSG00000118520\",\"BERN:323796102\"],\"span\":{\"begin\":1714,\"end\":1718},\"obj\":\"gene\"},{\"id\":[\"CHEBI:32696\",\"BERN:94137403\"],\"span\":{\"begin\":1743,\"end\":1751},\"obj\":\"drug\"},{\"id\":[\"BERN:256225101\"],\"span\":{\"begin\":1756,\"end\":1762},\"obj\":\"disease\"},{\"id\":[\"MIM:604261\",\"HGNC:589\",\"Ensembl:ENSG00000057663\",\"BERN:325502602\"],\"span\":{\"begin\":1783,\"end\":1787},\"obj\":\"gene\"},{\"id\":[\"CHEBI:32696\",\"BERN:94137403\"],\"span\":{\"begin\":1832,\"end\":1840},\"obj\":\"drug\"},{\"id\":[\"MIM:608760\",\"HGNC:16935\",\"Ensembl:ENSG00000197548\",\"BERN:321219402\"],\"span\":{\"begin\":1971,\"end\":1975},\"obj\":\"gene\"},{\"id\":[\"MIM:608760\",\"HGNC:16935\",\"Ensembl:ENSG00000197548\",\"BERN:321219402\"],\"span\":{\"begin\":2004,\"end\":2008},\"obj\":\"gene\"},{\"id\":[\"CHEBI:32696\",\"BERN:94137403\"],\"span\":{\"begin\":2030,\"end\":2038},\"obj\":\"drug\"},{\"id\":[\"CHEBI:32696\",\"BERN:94137403\"],\"span\":{\"begin\":2080,\"end\":2088},\"obj\":\"drug\"},{\"id\":[\"BERN:256225101\"],\"span\":{\"begin\":2093,\"end\":2099},\"obj\":\"disease\"},{\"id\":[\"MIM:608313\",\"HGNC:663\",\"Ensembl:ENSG00000118520\",\"BERN:323796102\"],\"span\":{\"begin\":2170,\"end\":2174},\"obj\":\"gene\"},{\"id\":[\"CHEBI:32696\",\"BERN:94137403\"],\"span\":{\"begin\":2225,\"end\":2233},\"obj\":\"drug\"},{\"id\":[\"BERN:256225101\"],\"span\":{\"begin\":2257,\"end\":2263},\"obj\":\"disease\"},{\"id\":[\"MESH:D002277\",\"BERN:255268301\"],\"span\":{\"begin\":2317,\"end\":2323},\"obj\":\"disease\"}],\"timestamp\":\"Fri Mar 27 14:05:55 +0000 2020\",\"logits\":{\"disease\":[[{\"start\":20,\"end\":26,\"id\":\"BERN:256225101\"},0.9999998807907104],[{\"start\":340,\"end\":356,\"id\":\"MESH:C562803\\\\tOMIM:250620\\\\tBERN:263376801\"},0.996525764465332],[{\"start\":375,\"end\":397,\"id\":\"MESH:D013217\\\\tBERN:265242001\"},0.9999783635139465],[{\"start\":473,\"end\":479,\"id\":\"MESH:D002277\\\\tBERN:255268301\"},0.9999997615814209],[{\"start\":631,\"end\":638,\"id\":\"BERN:256225101\"},0.9999997615814209],[{\"start\":652,\"end\":673,\"id\":\"MESH:D008288\\\\tOMIM:609148\\\\tBERN:106969401\"},0.9999998211860657],[{\"start\":807,\"end\":826,\"id\":\"MESH:D010307\\\\tBERN:107530601\"},0.9999998807907104],[{\"start\":837,\"end\":843,\"id\":\"BERN:256225101\"},0.9999998807907104],[{\"start\":917,\"end\":923,\"id\":\"BERN:256225101\"},0.9999998807907104],[{\"start\":1015,\"end\":1034,\"id\":\"BERN:257222701\"},0.9999804496765137],[{\"start\":1053,\"end\":1059,\"id\":\"BERN:256225101\"},0.9999998807907104],[{\"start\":1211,\"end\":1217,\"id\":\"BERN:256225101\"},0.9999998807907104],[{\"start\":1436,\"end\":1450,\"id\":\"CUI-less\"},0.9999993443489075],[{\"start\":1756,\"end\":1762,\"id\":\"BERN:256225101\"},0.9999998807907104],[{\"start\":2093,\"end\":2099,\"id\":\"BERN:256225101\"},0.9999998807907104],[{\"start\":2257,\"end\":2263,\"id\":\"BERN:256225101\"},0.9999998807907104],[{\"start\":2317,\"end\":2323,\"id\":\"MESH:D002277\\\\tBERN:255268301\"},0.9999998807907104]],\"gene\":[[{\"start\":288,\"end\":307,\"id\":\"CUI-less\"},0.9999955296516418],[{\"start\":537,\"end\":552,\"id\":\"CUI-less\"},0.9999929070472717],[{\"start\":705,\"end\":709,\"id\":\"MIM:608760\\\\tHGNC:16935\\\\tEnsembl:ENSG00000197548\\\\tBERN:321219402\"},0.9999972581863403],[{\"start\":745,\"end\":768,\"id\":\"CUI-less\"},0.9999961853027344],[{\"start\":807,\"end\":811,\"id\":\"MIM:190070\\\\tHGNC:6407\\\\tEnsembl:ENSG00000133703\\\\tBERN:323797702\"},0.9999971389770508],[{\"start\":979,\"end\":983,\"id\":\"MIM:608760\\\\tHGNC:16935\\\\tEnsembl:ENSG00000197548\\\\tBERN:321219402\"},0.9999972581863403],[{\"start\":1300,\"end\":1328,\"id\":\"MIM:603470\\\\tHGNC:758\\\\tEnsembl:ENSG00000130707\\\\tBERN:324125102\"},0.9999970197677612],[{\"start\":1396,\"end\":1406,\"id\":\"CUI-less\"},0.9999970197677612],[{\"start\":1408,\"end\":1412,\"id\":\"MIM:608313\\\\tHGNC:663\\\\tEnsembl:ENSG00000118520\\\\tBERN:323796102\"},0.9999971389770508],[{\"start\":1436,\"end\":1440,\"id\":\"MIM:608760\\\\tHGNC:16935\\\\tEnsembl:ENSG00000197548\\\\tBERN:321219402\"},0.9999972581863403],[{\"start\":1557,\"end\":1561,\"id\":\"MIM:608313\\\\tHGNC:663\\\\tEnsembl:ENSG00000118520\\\\tBERN:323796102\"},0.9999971389770508],[{\"start\":1688,\"end\":1692,\"id\":\"MIM:608760\\\\tHGNC:16935\\\\tEnsembl:ENSG00000197548\\\\tBERN:321219402\"},0.9999973773956299],[{\"start\":1714,\"end\":1718,\"id\":\"MIM:608313\\\\tHGNC:663\\\\tEnsembl:ENSG00000118520\\\\tBERN:323796102\"},0.9999973773956299],[{\"start\":1783,\"end\":1787,\"id\":\"MIM:604261\\\\tHGNC:589\\\\tEnsembl:ENSG00000057663\\\\tBERN:325502602\"},0.9999972581863403],[{\"start\":1971,\"end\":1975,\"id\":\"MIM:608760\\\\tHGNC:16935\\\\tEnsembl:ENSG00000197548\\\\tBERN:321219402\"},0.9999969005584717],[{\"start\":2004,\"end\":2008,\"id\":\"MIM:608760\\\\tHGNC:16935\\\\tEnsembl:ENSG00000197548\\\\tBERN:321219402\"},0.9999972581863403],[{\"start\":2170,\"end\":2174,\"id\":\"MIM:608313\\\\tHGNC:663\\\\tEnsembl:ENSG00000118520\\\\tBERN:323796102\"},0.9999971389770508]],\"drug\":[[{\"start\":54,\"end\":62,\"id\":\"CHEBI:32696\\\\tBERN:94137403\"},0.9999905824661255],[{\"start\":1184,\"end\":1192,\"id\":\"CHEBI:32696\\\\tBERN:94137403\"},0.9999942779541016],[{\"start\":1234,\"end\":1242,\"id\":\"CHEBI:32696\\\\tBERN:94137403\"},0.9999955892562866],[{\"start\":1300,\"end\":1317,\"id\":\"BERN:4665803\"},0.9999912977218628],[{\"start\":1370,\"end\":1378,\"id\":\"CHEBI:32696\\\\tBERN:94137403\"},0.9999938011169434],[{\"start\":1470,\"end\":1478,\"id\":\"CHEBI:32696\\\\tBERN:94137403\"},0.9999935626983643],[{\"start\":1521,\"end\":1529,\"id\":\"CHEBI:32696\\\\tBERN:94137403\"},0.9999902248382568],[{\"start\":1546,\"end\":1555,\"id\":\"CHEBI:44667\\\\tBERN:270478003\"},0.9999904632568359],[{\"start\":1743,\"end\":1751,\"id\":\"CHEBI:32696\\\\tBERN:94137403\"},0.9998328685760498],[{\"start\":1832,\"end\":1840,\"id\":\"CHEBI:32696\\\\tBERN:94137403\"},0.9994009733200073],[{\"start\":2030,\"end\":2038,\"id\":\"CHEBI:32696\\\\tBERN:94137403\"},0.9999904632568359],[{\"start\":2080,\"end\":2088,\"id\":\"CHEBI:32696\\\\tBERN:94137403\"},0.9999898672103882],[{\"start\":2225,\"end\":2233,\"id\":\"CHEBI:32696\\\\tBERN:94137403\"},0.9999884366989136]],\"species\":[[{\"start\":317,\"end\":321,\"id\":\"NCBI:txid10095\"},0.9999998807907104],[{\"start\":772,\"end\":776,\"id\":\"NCBI:txid10095\"},0.9999998807907104]]}}'"
      ]
     },
     "execution_count": 83,
     "metadata": {},
     "output_type": "execute_result"
    }
   ],
   "source": [
    "annot = query_raw(snippet)\n",
    "annot"
   ]
  },
  {
   "cell_type": "code",
   "execution_count": 84,
   "metadata": {},
   "outputs": [
    {
     "data": {
      "text/html": [
       "\n",
       "<script src=\"http://textae.pubannotation.org/lib/textae.min.js\" ></script>\n",
       "<link rel=\"stylesheet\" href=\"http://textae.pubannotation.org/lib/css/textae.min.css\" />\n",
       "<div class=\"textae-editor\" mode=\"edit\">\n",
       "    {\"project\":\"BERN\",\"sourcedb\":\"\",\"sourceid\":\"3fb64488568a4a1b204d8638e52584396c77c170bcebbf1c5d33998b\",\"text\":\"Autophagy maintains tumour growth through circulating arginine. Autophagy captures intracellular components and delivers them to lysosomes, where they are degraded and recycled to sustain metabolism and to enable survival during starvation1-5. Acute, whole-body deletion of the essential autophagy gene Atg7 in adult mice causes a systemic metabolic defect that manifests as starvation intolerance and gradual loss of white adipose tissue, liver glycogen and muscle mass1. Cancer cells also benefit from autophagy. Deletion of essential autophagy genes impairs the metabolism, proliferation, survival and malignancy of spontaneous tumours in models of autochthonous cancer6,7. Acute, systemic deletion of Atg7 or acute, systemic expression of a dominant-negative ATG4b in mice induces greater regression of KRAS-driven cancers than does tumour-specific autophagy deletion, which suggests that host autophagy promotes tumour growth1,8. Here we show that host-specific deletion of Atg7 impairs the growth of multiple allografted tumours, although not all tumour lines were sensitive to host autophagy status. Loss of autophagy in the host was associated with a reduction in circulating arginine,and the sensitive tumour cell lines were arginine auxotrophs owing to the lack of expression of the enzyme argininosuccinate synthase 1. Serum proteomic analysis identified the arginine-degrading enzyme arginase I (ARG1) in the circulation of Atg7-deficient hosts, and in vivo arginine metabolic tracing demonstrated that serum arginine was degraded to ornithine. ARG1 is predominantly expressed in the liver and can be released from hepatocytes into the circulation. Liver-specific deletion of Atg7 produced circulating ARG1, and reduced both serum arginine and tumour growth. Deletion of Atg5 in the host similarly regulated [corrected] arginine and suppressed tumorigenesis, which demonstrates that this phenotype is specific to autophagy function rather than to deletion of Atg7. Dietary supplementation of Atg7-deficient hosts with arginine partially restored levels of circulating arginine and tumour growth. Thus, defective autophagy in the host leads to the release of ARG1 from the liver and the degradation of circulating arginine, which is essentialfor tumour growth; this identifies a metabolic vulnerability of cancer. (PMID:30429607)\",\"denotations\":[{\"id\":[\"BERN:256225101\"],\"span\":{\"begin\":20,\"end\":26},\"obj\":\"disease\"},{\"id\":[\"CHEBI:32696\",\"BERN:94137403\"],\"span\":{\"begin\":54,\"end\":62},\"obj\":\"drug\"},{\"id\":[\"CUI-less\"],\"span\":{\"begin\":288,\"end\":307},\"obj\":\"gene\"},{\"id\":[\"NCBI:txid10095\"],\"span\":{\"begin\":317,\"end\":321},\"obj\":\"species\"},{\"id\":[\"MESH:C562803\",\"OMIM:250620\",\"BERN:263376801\"],\"span\":{\"begin\":340,\"end\":356},\"obj\":\"disease\"},{\"id\":[\"MESH:D013217\",\"BERN:265242001\"],\"span\":{\"begin\":375,\"end\":397},\"obj\":\"disease\"},{\"id\":[\"MESH:D002277\",\"BERN:255268301\"],\"span\":{\"begin\":473,\"end\":479},\"obj\":\"disease\"},{\"id\":[\"CUI-less\"],\"span\":{\"begin\":537,\"end\":552},\"obj\":\"gene\"},{\"id\":[\"BERN:256225101\"],\"span\":{\"begin\":631,\"end\":638},\"obj\":\"disease\"},{\"id\":[\"MESH:D008288\",\"OMIM:609148\",\"BERN:106969401\"],\"span\":{\"begin\":652,\"end\":673},\"obj\":\"disease\"},{\"id\":[\"MIM:608760\",\"HGNC:16935\",\"Ensembl:ENSG00000197548\",\"BERN:321219402\"],\"span\":{\"begin\":705,\"end\":709},\"obj\":\"gene\"},{\"id\":[\"CUI-less\"],\"span\":{\"begin\":745,\"end\":768},\"obj\":\"gene\"},{\"id\":[\"NCBI:txid10095\"],\"span\":{\"begin\":772,\"end\":776},\"obj\":\"species\"},{\"id\":[\"MESH:D010307\",\"BERN:107530601\"],\"span\":{\"begin\":807,\"end\":826},\"obj\":\"disease\"},{\"id\":[\"MIM:190070\",\"HGNC:6407\",\"Ensembl:ENSG00000133703\",\"BERN:323797702\"],\"span\":{\"begin\":807,\"end\":811},\"obj\":\"gene\"},{\"id\":[\"BERN:256225101\"],\"span\":{\"begin\":837,\"end\":843},\"obj\":\"disease\"},{\"id\":[\"BERN:256225101\"],\"span\":{\"begin\":917,\"end\":923},\"obj\":\"disease\"},{\"id\":[\"MIM:608760\",\"HGNC:16935\",\"Ensembl:ENSG00000197548\",\"BERN:321219402\"],\"span\":{\"begin\":979,\"end\":983},\"obj\":\"gene\"},{\"id\":[\"BERN:257222701\"],\"span\":{\"begin\":1015,\"end\":1034},\"obj\":\"disease\"},{\"id\":[\"BERN:256225101\"],\"span\":{\"begin\":1053,\"end\":1059},\"obj\":\"disease\"},{\"id\":[\"CHEBI:32696\",\"BERN:94137403\"],\"span\":{\"begin\":1184,\"end\":1192},\"obj\":\"drug\"},{\"id\":[\"BERN:256225101\"],\"span\":{\"begin\":1211,\"end\":1217},\"obj\":\"disease\"},{\"id\":[\"CHEBI:32696\",\"BERN:94137403\"],\"span\":{\"begin\":1234,\"end\":1242},\"obj\":\"drug\"},{\"id\":[\"BERN:4665803\"],\"span\":{\"begin\":1300,\"end\":1317},\"obj\":\"drug\"},{\"id\":[\"MIM:603470\",\"HGNC:758\",\"Ensembl:ENSG00000130707\",\"BERN:324125102\"],\"span\":{\"begin\":1300,\"end\":1328},\"obj\":\"gene\"},{\"id\":[\"CHEBI:32696\",\"BERN:94137403\"],\"span\":{\"begin\":1370,\"end\":1378},\"obj\":\"drug\"},{\"id\":[\"CUI-less\"],\"span\":{\"begin\":1396,\"end\":1406},\"obj\":\"gene\"},{\"id\":[\"MIM:608313\",\"HGNC:663\",\"Ensembl:ENSG00000118520\",\"BERN:323796102\"],\"span\":{\"begin\":1408,\"end\":1412},\"obj\":\"gene\"},{\"id\":[\"CUI-less\"],\"span\":{\"begin\":1436,\"end\":1450},\"obj\":\"disease\"},{\"id\":[\"MIM:608760\",\"HGNC:16935\",\"Ensembl:ENSG00000197548\",\"BERN:321219402\"],\"span\":{\"begin\":1436,\"end\":1440},\"obj\":\"gene\"},{\"id\":[\"CHEBI:32696\",\"BERN:94137403\"],\"span\":{\"begin\":1470,\"end\":1478},\"obj\":\"drug\"},{\"id\":[\"CHEBI:32696\",\"BERN:94137403\"],\"span\":{\"begin\":1521,\"end\":1529},\"obj\":\"drug\"},{\"id\":[\"CHEBI:44667\",\"BERN:270478003\"],\"span\":{\"begin\":1546,\"end\":1555},\"obj\":\"drug\"},{\"id\":[\"MIM:608313\",\"HGNC:663\",\"Ensembl:ENSG00000118520\",\"BERN:323796102\"],\"span\":{\"begin\":1557,\"end\":1561},\"obj\":\"gene\"},{\"id\":[\"MIM:608760\",\"HGNC:16935\",\"Ensembl:ENSG00000197548\",\"BERN:321219402\"],\"span\":{\"begin\":1688,\"end\":1692},\"obj\":\"gene\"},{\"id\":[\"MIM:608313\",\"HGNC:663\",\"Ensembl:ENSG00000118520\",\"BERN:323796102\"],\"span\":{\"begin\":1714,\"end\":1718},\"obj\":\"gene\"},{\"id\":[\"CHEBI:32696\",\"BERN:94137403\"],\"span\":{\"begin\":1743,\"end\":1751},\"obj\":\"drug\"},{\"id\":[\"BERN:256225101\"],\"span\":{\"begin\":1756,\"end\":1762},\"obj\":\"disease\"},{\"id\":[\"MIM:604261\",\"HGNC:589\",\"Ensembl:ENSG00000057663\",\"BERN:325502602\"],\"span\":{\"begin\":1783,\"end\":1787},\"obj\":\"gene\"},{\"id\":[\"CHEBI:32696\",\"BERN:94137403\"],\"span\":{\"begin\":1832,\"end\":1840},\"obj\":\"drug\"},{\"id\":[\"MIM:608760\",\"HGNC:16935\",\"Ensembl:ENSG00000197548\",\"BERN:321219402\"],\"span\":{\"begin\":1971,\"end\":1975},\"obj\":\"gene\"},{\"id\":[\"MIM:608760\",\"HGNC:16935\",\"Ensembl:ENSG00000197548\",\"BERN:321219402\"],\"span\":{\"begin\":2004,\"end\":2008},\"obj\":\"gene\"},{\"id\":[\"CHEBI:32696\",\"BERN:94137403\"],\"span\":{\"begin\":2030,\"end\":2038},\"obj\":\"drug\"},{\"id\":[\"CHEBI:32696\",\"BERN:94137403\"],\"span\":{\"begin\":2080,\"end\":2088},\"obj\":\"drug\"},{\"id\":[\"BERN:256225101\"],\"span\":{\"begin\":2093,\"end\":2099},\"obj\":\"disease\"},{\"id\":[\"MIM:608313\",\"HGNC:663\",\"Ensembl:ENSG00000118520\",\"BERN:323796102\"],\"span\":{\"begin\":2170,\"end\":2174},\"obj\":\"gene\"},{\"id\":[\"CHEBI:32696\",\"BERN:94137403\"],\"span\":{\"begin\":2225,\"end\":2233},\"obj\":\"drug\"},{\"id\":[\"BERN:256225101\"],\"span\":{\"begin\":2257,\"end\":2263},\"obj\":\"disease\"},{\"id\":[\"MESH:D002277\",\"BERN:255268301\"],\"span\":{\"begin\":2317,\"end\":2323},\"obj\":\"disease\"}],\"timestamp\":\"Fri Mar 27 14:05:55 +0000 2020\",\"logits\":{\"disease\":[[{\"start\":20,\"end\":26,\"id\":\"BERN:256225101\"},0.9999998807907104],[{\"start\":340,\"end\":356,\"id\":\"MESH:C562803\\tOMIM:250620\\tBERN:263376801\"},0.996525764465332],[{\"start\":375,\"end\":397,\"id\":\"MESH:D013217\\tBERN:265242001\"},0.9999783635139465],[{\"start\":473,\"end\":479,\"id\":\"MESH:D002277\\tBERN:255268301\"},0.9999997615814209],[{\"start\":631,\"end\":638,\"id\":\"BERN:256225101\"},0.9999997615814209],[{\"start\":652,\"end\":673,\"id\":\"MESH:D008288\\tOMIM:609148\\tBERN:106969401\"},0.9999998211860657],[{\"start\":807,\"end\":826,\"id\":\"MESH:D010307\\tBERN:107530601\"},0.9999998807907104],[{\"start\":837,\"end\":843,\"id\":\"BERN:256225101\"},0.9999998807907104],[{\"start\":917,\"end\":923,\"id\":\"BERN:256225101\"},0.9999998807907104],[{\"start\":1015,\"end\":1034,\"id\":\"BERN:257222701\"},0.9999804496765137],[{\"start\":1053,\"end\":1059,\"id\":\"BERN:256225101\"},0.9999998807907104],[{\"start\":1211,\"end\":1217,\"id\":\"BERN:256225101\"},0.9999998807907104],[{\"start\":1436,\"end\":1450,\"id\":\"CUI-less\"},0.9999993443489075],[{\"start\":1756,\"end\":1762,\"id\":\"BERN:256225101\"},0.9999998807907104],[{\"start\":2093,\"end\":2099,\"id\":\"BERN:256225101\"},0.9999998807907104],[{\"start\":2257,\"end\":2263,\"id\":\"BERN:256225101\"},0.9999998807907104],[{\"start\":2317,\"end\":2323,\"id\":\"MESH:D002277\\tBERN:255268301\"},0.9999998807907104]],\"gene\":[[{\"start\":288,\"end\":307,\"id\":\"CUI-less\"},0.9999955296516418],[{\"start\":537,\"end\":552,\"id\":\"CUI-less\"},0.9999929070472717],[{\"start\":705,\"end\":709,\"id\":\"MIM:608760\\tHGNC:16935\\tEnsembl:ENSG00000197548\\tBERN:321219402\"},0.9999972581863403],[{\"start\":745,\"end\":768,\"id\":\"CUI-less\"},0.9999961853027344],[{\"start\":807,\"end\":811,\"id\":\"MIM:190070\\tHGNC:6407\\tEnsembl:ENSG00000133703\\tBERN:323797702\"},0.9999971389770508],[{\"start\":979,\"end\":983,\"id\":\"MIM:608760\\tHGNC:16935\\tEnsembl:ENSG00000197548\\tBERN:321219402\"},0.9999972581863403],[{\"start\":1300,\"end\":1328,\"id\":\"MIM:603470\\tHGNC:758\\tEnsembl:ENSG00000130707\\tBERN:324125102\"},0.9999970197677612],[{\"start\":1396,\"end\":1406,\"id\":\"CUI-less\"},0.9999970197677612],[{\"start\":1408,\"end\":1412,\"id\":\"MIM:608313\\tHGNC:663\\tEnsembl:ENSG00000118520\\tBERN:323796102\"},0.9999971389770508],[{\"start\":1436,\"end\":1440,\"id\":\"MIM:608760\\tHGNC:16935\\tEnsembl:ENSG00000197548\\tBERN:321219402\"},0.9999972581863403],[{\"start\":1557,\"end\":1561,\"id\":\"MIM:608313\\tHGNC:663\\tEnsembl:ENSG00000118520\\tBERN:323796102\"},0.9999971389770508],[{\"start\":1688,\"end\":1692,\"id\":\"MIM:608760\\tHGNC:16935\\tEnsembl:ENSG00000197548\\tBERN:321219402\"},0.9999973773956299],[{\"start\":1714,\"end\":1718,\"id\":\"MIM:608313\\tHGNC:663\\tEnsembl:ENSG00000118520\\tBERN:323796102\"},0.9999973773956299],[{\"start\":1783,\"end\":1787,\"id\":\"MIM:604261\\tHGNC:589\\tEnsembl:ENSG00000057663\\tBERN:325502602\"},0.9999972581863403],[{\"start\":1971,\"end\":1975,\"id\":\"MIM:608760\\tHGNC:16935\\tEnsembl:ENSG00000197548\\tBERN:321219402\"},0.9999969005584717],[{\"start\":2004,\"end\":2008,\"id\":\"MIM:608760\\tHGNC:16935\\tEnsembl:ENSG00000197548\\tBERN:321219402\"},0.9999972581863403],[{\"start\":2170,\"end\":2174,\"id\":\"MIM:608313\\tHGNC:663\\tEnsembl:ENSG00000118520\\tBERN:323796102\"},0.9999971389770508]],\"drug\":[[{\"start\":54,\"end\":62,\"id\":\"CHEBI:32696\\tBERN:94137403\"},0.9999905824661255],[{\"start\":1184,\"end\":1192,\"id\":\"CHEBI:32696\\tBERN:94137403\"},0.9999942779541016],[{\"start\":1234,\"end\":1242,\"id\":\"CHEBI:32696\\tBERN:94137403\"},0.9999955892562866],[{\"start\":1300,\"end\":1317,\"id\":\"BERN:4665803\"},0.9999912977218628],[{\"start\":1370,\"end\":1378,\"id\":\"CHEBI:32696\\tBERN:94137403\"},0.9999938011169434],[{\"start\":1470,\"end\":1478,\"id\":\"CHEBI:32696\\tBERN:94137403\"},0.9999935626983643],[{\"start\":1521,\"end\":1529,\"id\":\"CHEBI:32696\\tBERN:94137403\"},0.9999902248382568],[{\"start\":1546,\"end\":1555,\"id\":\"CHEBI:44667\\tBERN:270478003\"},0.9999904632568359],[{\"start\":1743,\"end\":1751,\"id\":\"CHEBI:32696\\tBERN:94137403\"},0.9998328685760498],[{\"start\":1832,\"end\":1840,\"id\":\"CHEBI:32696\\tBERN:94137403\"},0.9994009733200073],[{\"start\":2030,\"end\":2038,\"id\":\"CHEBI:32696\\tBERN:94137403\"},0.9999904632568359],[{\"start\":2080,\"end\":2088,\"id\":\"CHEBI:32696\\tBERN:94137403\"},0.9999898672103882],[{\"start\":2225,\"end\":2233,\"id\":\"CHEBI:32696\\tBERN:94137403\"},0.9999884366989136]],\"species\":[[{\"start\":317,\"end\":321,\"id\":\"NCBI:txid10095\"},0.9999998807907104],[{\"start\":772,\"end\":776,\"id\":\"NCBI:txid10095\"},0.9999998807907104]]}}\n",
       "</div>\n"
      ],
      "text/plain": [
       "<IPython.core.display.HTML object>"
      ]
     },
     "execution_count": 84,
     "metadata": {},
     "output_type": "execute_result"
    }
   ],
   "source": [
    "# TODO make cell-magics/functions in cv/data/annotate\n",
    "# TODO prettify css?\n",
    "html_code = \"\"\"\n",
    "<script src=\"http://textae.pubannotation.org/lib/textae.min.js\" ></script>\n",
    "<link rel=\"stylesheet\" href=\"http://textae.pubannotation.org/lib/css/textae.min.css\" />\n",
    "<div class=\"textae-editor\" mode=\"edit\">\n",
    "    %s\n",
    "</div>\n",
    "\"\"\"%annot\n",
    "HTML(html_code)"
   ]
  },
  {
   "cell_type": "markdown",
   "metadata": {},
   "source": [
    "TODO: extracted NER (pubannotate) to pandas, nextworkx(?)"
   ]
  },
  {
   "cell_type": "code",
   "execution_count": null,
   "metadata": {},
   "outputs": [],
   "source": []
  }
 ],
 "metadata": {
  "kernelspec": {
   "display_name": "Python [conda env:cv-py]",
   "language": "python",
   "name": "conda-env-cv-py-py"
  },
  "language_info": {
   "codemirror_mode": {
    "name": "ipython",
    "version": 3
   },
   "file_extension": ".py",
   "mimetype": "text/x-python",
   "name": "python",
   "nbconvert_exporter": "python",
   "pygments_lexer": "ipython3",
   "version": "3.8.1"
  }
 },
 "nbformat": 4,
 "nbformat_minor": 4
}
